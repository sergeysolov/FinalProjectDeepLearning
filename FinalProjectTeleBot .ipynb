{
  "nbformat": 4,
  "nbformat_minor": 0,
  "metadata": {
    "colab": {
      "provenance": []
    },
    "kernelspec": {
      "name": "python3",
      "display_name": "Python 3"
    },
    "language_info": {
      "name": "python"
    },
    "gpuClass": "standard",
    "accelerator": "GPU"
  },
  "cells": [
    {
      "cell_type": "code",
      "source": [
        "!pip install pyTelegramBotAPI"
      ],
      "metadata": {
        "colab": {
          "base_uri": "https://localhost:8080/"
        },
        "id": "BnbWuAQraigt",
        "outputId": "1b5c5f63-a06a-471a-ddf2-eac56c525e6d"
      },
      "execution_count": 1,
      "outputs": [
        {
          "output_type": "stream",
          "name": "stdout",
          "text": [
            "Looking in indexes: https://pypi.org/simple, https://us-python.pkg.dev/colab-wheels/public/simple/\n",
            "Collecting pyTelegramBotAPI\n",
            "  Downloading pyTelegramBotAPI-4.9.0.tar.gz (219 kB)\n",
            "\u001b[2K     \u001b[90m━━━━━━━━━━━━━━━━━━━━━━━━━━━━━━━━━━━━━━\u001b[0m \u001b[32m219.9/219.9 KB\u001b[0m \u001b[31m17.0 MB/s\u001b[0m eta \u001b[36m0:00:00\u001b[0m\n",
            "\u001b[?25h  Preparing metadata (setup.py) ... \u001b[?25l\u001b[?25hdone\n",
            "Requirement already satisfied: requests in /usr/local/lib/python3.8/dist-packages (from pyTelegramBotAPI) (2.25.1)\n",
            "Requirement already satisfied: idna<3,>=2.5 in /usr/local/lib/python3.8/dist-packages (from requests->pyTelegramBotAPI) (2.10)\n",
            "Requirement already satisfied: urllib3<1.27,>=1.21.1 in /usr/local/lib/python3.8/dist-packages (from requests->pyTelegramBotAPI) (1.24.3)\n",
            "Requirement already satisfied: certifi>=2017.4.17 in /usr/local/lib/python3.8/dist-packages (from requests->pyTelegramBotAPI) (2022.12.7)\n",
            "Requirement already satisfied: chardet<5,>=3.0.2 in /usr/local/lib/python3.8/dist-packages (from requests->pyTelegramBotAPI) (4.0.0)\n",
            "Building wheels for collected packages: pyTelegramBotAPI\n",
            "  Building wheel for pyTelegramBotAPI (setup.py) ... \u001b[?25l\u001b[?25hdone\n",
            "  Created wheel for pyTelegramBotAPI: filename=pyTelegramBotAPI-4.9.0-py3-none-any.whl size=203107 sha256=c8916cdb2ad4fe196963dd70b783c85a1b6381c530d1bbb57f1bdefdade74c74\n",
            "  Stored in directory: /root/.cache/pip/wheels/95/a7/fd/f667b71e29e3f64f239f30195efc39de642e72f8a47a6fcd8d\n",
            "Successfully built pyTelegramBotAPI\n",
            "Installing collected packages: pyTelegramBotAPI\n",
            "Successfully installed pyTelegramBotAPI-4.9.0\n"
          ]
        }
      ]
    },
    {
      "cell_type": "code",
      "source": [
        "import telebot\n",
        "import torch\n",
        "import numpy as np\n",
        "import torch.nn as nn\n",
        "import cv2\n",
        "from PIL import Image\n",
        "import matplotlib.pyplot as plt\n",
        "device = torch.device(\"cuda:0\" if torch.cuda.is_available() else \"cpu\")"
      ],
      "metadata": {
        "id": "I-tRfBY0aIdQ"
      },
      "execution_count": 2,
      "outputs": []
    },
    {
      "cell_type": "code",
      "source": [
        "class Generator(nn.Module):\n",
        "    def __init__(self):\n",
        "        super().__init__()\n",
        "        self.prep = nn.Sequential(\n",
        "            nn.Conv2d(in_channels=3, out_channels=64, kernel_size=9, stride=1, padding=4),\n",
        "            nn.PReLU()\n",
        "        )\n",
        "        self.block_1 = nn.Sequential(\n",
        "            nn.Conv2d(in_channels=64, out_channels=64, kernel_size=3, stride=1, padding=1),\n",
        "            nn.BatchNorm2d(64),\n",
        "            nn.PReLU(),\n",
        "            nn.Conv2d(in_channels=64, out_channels=64, kernel_size=3, stride=1, padding=1),\n",
        "            nn.BatchNorm2d(64),\n",
        "        )\n",
        "        self.block_2 = nn.Sequential(\n",
        "            nn.Conv2d(in_channels=64, out_channels=64, kernel_size=3, stride=1, padding=1),\n",
        "            nn.BatchNorm2d(64),\n",
        "            nn.PReLU(),\n",
        "            nn.Conv2d(in_channels=64, out_channels=64, kernel_size=3, stride=1, padding=1),\n",
        "            nn.BatchNorm2d(64),\n",
        "        )\n",
        "        self.block_3 = nn.Sequential(\n",
        "            nn.Conv2d(in_channels=64, out_channels=64, kernel_size=3, stride=1, padding=1),\n",
        "            nn.BatchNorm2d(64),\n",
        "            nn.PReLU(),\n",
        "            nn.Conv2d(in_channels=64, out_channels=64, kernel_size=3, stride=1, padding=1),\n",
        "            nn.BatchNorm2d(64),\n",
        "        )\n",
        "        self.block_4 = nn.Sequential(\n",
        "            nn.Conv2d(in_channels=64, out_channels=64, kernel_size=3, stride=1, padding=1),\n",
        "            nn.BatchNorm2d(64),\n",
        "            nn.PReLU(),\n",
        "            nn.Conv2d(in_channels=64, out_channels=64, kernel_size=3, stride=1, padding=1),\n",
        "            nn.BatchNorm2d(64),\n",
        "        )\n",
        "        self.block_5 = nn.Sequential(\n",
        "            nn.Conv2d(in_channels=64, out_channels=64, kernel_size=3, stride=1, padding=1),\n",
        "            nn.BatchNorm2d(64),\n",
        "            nn.PReLU(),\n",
        "            nn.Conv2d(in_channels=64, out_channels=64, kernel_size=3, stride=1, padding=1),\n",
        "            nn.BatchNorm2d(64),\n",
        "        )\n",
        "        self.out_prep = nn.Sequential(\n",
        "            nn.Conv2d(in_channels=64, out_channels=64, kernel_size=9, stride=1, padding=4),\n",
        "            nn.BatchNorm2d(64),\n",
        "        )\n",
        "        self.out_conv_1 = nn.Sequential(\n",
        "            nn.Conv2d(in_channels=64, out_channels=256, kernel_size=3, stride=1, padding=1),\n",
        "        )\n",
        "        self.out_p_relu_1 = nn.Sequential(\n",
        "            nn.PReLU()\n",
        "        )\n",
        "        self.out_conv_2 = nn.Sequential(\n",
        "            nn.Conv2d(in_channels=64, out_channels=256, kernel_size=3, stride=1, padding=1),\n",
        "        )\n",
        "        self.out_p_relu_2 = nn.Sequential(\n",
        "            nn.PReLU()\n",
        "        )\n",
        "        self.last_conv = nn.Sequential(\n",
        "            nn.Conv2d(in_channels=64, out_channels=3, kernel_size=9, stride=1, padding=4)\n",
        "        )\n",
        "    def forward(self, input):\n",
        "        DEBUG = False\n",
        "        if DEBUG:\n",
        "            print('input.shape: ', input.shape)\n",
        "\n",
        "        x = self.prep(input)\n",
        "        if DEBUG:\n",
        "            print('x.shape: ', x.shape)\n",
        "        \n",
        "        y1 = self.block_1(x)\n",
        "        if(DEBUG):\n",
        "            print('y1.shape: ', y1.shape)\n",
        "\n",
        "        y1 = y1 + x\n",
        "        y2 = self.block_2(y1)\n",
        "        y2 = y2 + y1\n",
        "        y3 = self.block_3(y2)\n",
        "        y3 = y3 + y2\n",
        "        y4 = self.block_4(y3)\n",
        "        y4 = y4 + y3\n",
        "        y5 = self.block_5(y4)\n",
        "        y5 = y5 + y4\n",
        "\n",
        "        if DEBUG:\n",
        "            print('y5.shape: ', y5.shape, ' y4.shape: ', y4.shape)\n",
        "\n",
        "        y5 = self.out_prep(y5)\n",
        "        y5 = y5 + x\n",
        "\n",
        "        if DEBUG:\n",
        "            print('y5 out_prep.shape: ', y5.shape)\n",
        "\n",
        "        pixel_shuffle = nn.PixelShuffle(2)\n",
        "\n",
        "        y5 = self.out_conv_1(y5)\n",
        "\n",
        "        if DEBUG:\n",
        "            print('y5 out_conv_1.shape: ', y5.shape)\n",
        "\n",
        "        y5 = pixel_shuffle(y5)\n",
        "        if DEBUG:\n",
        "            print('y5 pixel_shuffle1.shape: ', y5.shape)\n",
        "\n",
        "        y5 = self.out_p_relu_1(y5)\n",
        "        y5 = self.out_conv_2(y5)\n",
        "\n",
        "        if DEBUG:\n",
        "            print('y5 out_conv_2.shape: ', y5.shape)\n",
        "\n",
        "        y5 = pixel_shuffle(y5)\n",
        "        y5 = self.out_p_relu_2(y5)\n",
        "\n",
        "        if DEBUG:\n",
        "            print('y5 pixel_shuffle2.shape: ', y5.shape)\n",
        "\n",
        "        y5 = self.last_conv(y5)\n",
        "\n",
        "        if DEBUG:\n",
        "            print('y5 last_conv.shape: ', y5.shape)\n",
        "\n",
        "        return y5\n"
      ],
      "metadata": {
        "id": "TwjOZ5B71oJU"
      },
      "execution_count": 3,
      "outputs": []
    },
    {
      "cell_type": "code",
      "source": [
        "generator = Generator().to(device)"
      ],
      "metadata": {
        "id": "Wm1yGzq-8gxS"
      },
      "execution_count": 4,
      "outputs": []
    },
    {
      "cell_type": "code",
      "source": [
        "generator.load_state_dict(torch.load('generator_v3', map_location=torch.device(device)))"
      ],
      "metadata": {
        "colab": {
          "base_uri": "https://localhost:8080/"
        },
        "id": "uoGyx0eC8psw",
        "outputId": "51158a09-77c8-4409-87ee-d060f92977ca"
      },
      "execution_count": 6,
      "outputs": [
        {
          "output_type": "execute_result",
          "data": {
            "text/plain": [
              "<All keys matched successfully>"
            ]
          },
          "metadata": {},
          "execution_count": 6
        }
      ]
    },
    {
      "cell_type": "code",
      "source": [
        "API_KEY_FILE_NAME = 'API_KEY.txt'\n",
        "with open(API_KEY_FILE_NAME, \"r\") as file:\n",
        "    API_KEY = file.readline()"
      ],
      "metadata": {
        "id": "j-9Ot4ijDsM4"
      },
      "execution_count": 7,
      "outputs": []
    },
    {
      "cell_type": "code",
      "source": [
        "bot = telebot.TeleBot(token=API_KEY)\n",
        "@bot.message_handler(func=lambda x: True)\n",
        "def handle_message(message):\n",
        "    if message.content_type == 'text':\n",
        "        print(message.text)\n",
        "\n",
        "@bot.message_handler(content_types=['photo'])\n",
        "def handle_docs_photo(message):\n",
        "    raw = message.photo[2].file_id\n",
        "    name = raw+\".jpg\"\n",
        "    file_info = bot.get_file(raw)\n",
        "    downloaded_file = bot.download_file(file_info.file_path)\n",
        "    with open(name,'wb') as new_file:\n",
        "        new_file.write(downloaded_file)\n",
        "    \n",
        "    photo = cv2.imread(name)[:,:,::-1]\n",
        "    s = photo.shape\n",
        "    photo = torch.from_numpy(photo.copy()).reshape(1, *s).permute(0, 3, 1, 2).type(torch.float32).to(device)\n",
        "    generator.eval()\n",
        "    with torch.no_grad():\n",
        "        photo = generator(photo).cpu()\n",
        "    s_new = photo.shape\n",
        "    #print(s_new[3])\n",
        "    photo = photo.reshape(s_new[1], s_new[2], s_new[3]).permute(1, 2, 0).numpy().astype(np.uint8)\n",
        "    #print(photo)\n",
        "    #plt.imshow(photo)\n",
        "    #plt.show()\n",
        "    pil_img = Image.fromarray(photo)\n",
        "    \n",
        "    pil_img.save('random_image.jpg')\n",
        "    img = open('random_image.jpg', 'rb')\n",
        "    bot.send_photo(message.chat.id, img)\n",
        "    "
      ],
      "metadata": {
        "id": "Ds_oOqsZbBP4"
      },
      "execution_count": 32,
      "outputs": []
    },
    {
      "cell_type": "code",
      "source": [
        "bot.polling()"
      ],
      "metadata": {
        "id": "DsMx1qnYbidI"
      },
      "execution_count": null,
      "outputs": []
    }
  ]
}